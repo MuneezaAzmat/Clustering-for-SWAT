{
 "cells": [
  {
   "cell_type": "code",
   "execution_count": 8,
   "metadata": {},
   "outputs": [],
   "source": [
    "# Import dependancies\n",
    "import numpy as np\n",
    "from tslearn.clustering import TimeSeriesKMeans\n",
    "from tslearn.preprocessing import TimeSeriesScalerMinMax , TimeSeriesScalerMeanVariance\n",
    "import matplotlib.pyplot as plt\n",
    "import os\n",
    "\n",
    "# Load feature definitions\n",
    "# with open('/Users/muneeza/Documents/GitHub/GNNs_PrecisionAgriculture//SWAT Data Reader/SWAT_feat_description.pkl', 'rb') as f:\n",
    "#     feat_descript = pickle.load(f)\n",
    "\n",
    "# From 01_Gen_Clustering_Data file\n",
    "feat_names = ['MON',  'PRECIP' , 'AREA', 'DAILYCN', 'SNOMELT' ,'SNOFALL', 'SURQ_GEN', 'LATQ', 'WYLD', 'PET']\n",
    "n_feat = len(feat_names)\n",
    "data_path = '/Users/muneeza/Documents/GitHub/DATA_SMest/HRU_clustering'\n",
    "names_list = os.listdir(data_path)\n",
    "names_list.remove('.DS_Store')\n",
    "n_hrus = np.array([x.split('.')[-2] for x in names_list]).astype(int)\n",
    "hrus_total = np.sum(n_hrus)\n",
    "all_data= np.zeros((12, hrus_total,10))   # (months, hrus, features)"
   ]
  },
  {
   "cell_type": "code",
   "execution_count": null,
   "metadata": {},
   "outputs": [],
   "source": [
    "st = 0\n",
    "en = 0\n",
    "for i, name in enumerate(names_list):\n",
    "    en += n_hrus[i]\n",
    "    all_data[:,st:en,:] = np.load(data_path+'/'+name)\n",
    "    st = en\n",
    "\n",
    "all_data = all_data.transpose(1,0,2)"
   ]
  },
  {
   "cell_type": "code",
   "execution_count": 32,
   "metadata": {},
   "outputs": [
    {
     "name": "stderr",
     "output_type": "stream",
     "text": [
      "/Library/Frameworks/Python.framework/Versions/3.10/lib/python3.10/site-packages/tslearn/bases/bases.py:15: UserWarning: h5py not installed, hdf5 features will not be supported.\n",
      "Install h5py to use hdf5 features: http://docs.h5py.org/\n",
      "  warn(h5py_msg)\n"
     ]
    }
   ],
   "source": [
    "def normalization(type, all_data,n_feat):\n",
    "    if type =='custom':\n",
    "        max_arr = np.zeros(n_feat)\n",
    "        min_arr = np.zeros(n_feat)\n",
    "        X_train_norm = np.zeros(all_data.shape)\n",
    "        for i in range(n_feat):\n",
    "            max_arr[i] = np.max(all_data[:,:,i])\n",
    "            min_arr[i] = np.min(all_data[:,:,i])\n",
    "            X_train_norm[:,:,i] = (all_data[:,:,i] -  min_arr[i])/( max_arr[i]- min_arr[i])\n",
    "    elif type == 'minmax':\n",
    "        X_train_norm = TimeSeriesScalerMinMax(value_range=(0,1)).fit_transform(all_data)\n",
    "    elif type == 'std':\n",
    "        X_train_norm = TimeSeriesScalerMeanVariance(0,1).fit_transform(all_data)\n",
    "    else: \n",
    "        X_train_norm = all_data\n",
    "    return(X_train_norm)"
   ]
  },
  {
   "cell_type": "code",
   "execution_count": 33,
   "metadata": {},
   "outputs": [],
   "source": [
    "# Normalize Data (CUSTOM)\n",
    "X_train_norm = normalization('custom', all_data, n_feat)\n",
    "\n",
    "# Train model and predict labels \n",
    "model = TimeSeriesKMeans(n_clusters=30, metric=\"dtw\", max_iter=10)\n",
    "# X (n_ts , sz, d) \n",
    "# n_ts : number of time series \n",
    "# sz : size of time series (n time steps)\n",
    "# d : dimension of data (n features)\n",
    "model.fit(X_train_norm)\n",
    "\n",
    "labels = model.predict(X_train_norm)"
   ]
  },
  {
   "cell_type": "code",
   "execution_count": null,
   "metadata": {},
   "outputs": [],
   "source": [
    "# Save predicted clusters to disc\n",
    "zipped = zip(names_list, labels)\n",
    "clustering_custom = list(zipped)\n",
    "textfile = open(\"clustering_custom.txt\", \"w\")\n",
    "for element in clustering_custom:\n",
    "    print(element)\n",
    "    textfile.write(element[0]+' , ')\n",
    "    textfile.write(element[1].astype(str))\n",
    "    textfile.write('\\n')\n",
    "textfile.close()"
   ]
  }
 ],
 "metadata": {
  "kernelspec": {
   "display_name": "Python 3.10.4 64-bit",
   "language": "python",
   "name": "python3"
  },
  "language_info": {
   "codemirror_mode": {
    "name": "ipython",
    "version": 3
   },
   "file_extension": ".py",
   "mimetype": "text/x-python",
   "name": "python",
   "nbconvert_exporter": "python",
   "pygments_lexer": "ipython3",
   "version": "3.10.4"
  },
  "orig_nbformat": 4,
  "vscode": {
   "interpreter": {
    "hash": "aee8b7b246df8f9039afb4144a1f6fd8d2ca17a180786b69acc140d282b71a49"
   }
  }
 },
 "nbformat": 4,
 "nbformat_minor": 2
}
