{
 "cells": [
  {
   "cell_type": "code",
   "execution_count": 1,
   "metadata": {},
   "outputs": [
    {
     "name": "stderr",
     "output_type": "stream",
     "text": [
      "/Library/Frameworks/Python.framework/Versions/3.10/lib/python3.10/site-packages/tslearn/bases/bases.py:15: UserWarning: h5py not installed, hdf5 features will not be supported.\n",
      "Install h5py to use hdf5 features: http://docs.h5py.org/\n",
      "  warn(h5py_msg)\n"
     ]
    }
   ],
   "source": [
    "# Import dependancies\n",
    "import numpy as np\n",
    "from tslearn.clustering import TimeSeriesKMeans\n",
    "from tslearn.preprocessing import TimeSeriesScalerMinMax , TimeSeriesScalerMeanVariance\n",
    "import matplotlib.pyplot as plt\n",
    "import os\n",
    "\n",
    "# From 01_Gen_Clustering_Data file\n",
    "feat_names = ['MON',  'PRECIP' , 'AREA', 'DAILYCN', 'SNOMELT' ,'SNOFALL', 'SURQ_GEN', 'LATQ', 'WYLD', 'PET']\n",
    "n_feat = len(feat_names)\n",
    "data_path = '/Users/muneeza/Documents/GitHub/DATA_SMest/HRU_clustering'\n",
    "names_list = os.listdir(data_path)\n",
    "names_list.remove('.DS_Store')\n",
    "n_hrus = np.array([x.split('.')[-2] for x in names_list]).astype(int)\n",
    "hrus_total = np.sum(n_hrus)\n",
    "all_data= np.zeros((12, hrus_total,10))   # (months, hrus, features)"
   ]
  },
  {
   "cell_type": "code",
   "execution_count": 2,
   "metadata": {},
   "outputs": [
    {
     "data": {
      "text/plain": [
       "array([[[  1.        ,  88.13157895,   3.2557    , ...,   3.98186842,\n",
       "          52.25702632,  24.22110526],\n",
       "        [  2.        ,  74.04210526,   3.2557    , ...,   3.74265789,\n",
       "          55.43015789,  33.19392105],\n",
       "        [  3.        , 110.43947368,   3.2557    , ...,   5.47110526,\n",
       "          61.47826316,  63.05660526],\n",
       "        ...,\n",
       "        [ 10.        , 116.13421053,   3.2557    , ...,   2.20018421,\n",
       "          23.55484211,  70.29589474],\n",
       "        [ 11.        ,  96.67894737,   3.2557    , ...,   3.19965789,\n",
       "          24.10265789,  38.90118421],\n",
       "        [ 12.        , 105.42368421,   3.2557    , ...,   5.54628947,\n",
       "          41.69542105,  24.68736842]],\n",
       "\n",
       "       [[  1.        ,  88.13157895,   1.8663    , ...,   8.04402632,\n",
       "          56.77181579,  24.22110526],\n",
       "        [  2.        ,  74.04210526,   1.8663    , ...,   6.57723684,\n",
       "          56.49584211,  33.19392105],\n",
       "        [  3.        , 110.43947368,   1.8663    , ...,   9.768     ,\n",
       "          61.39989474,  63.05660526],\n",
       "        ...,\n",
       "        [ 10.        , 116.13421053,   1.8663    , ...,   4.30728947,\n",
       "          26.25534211,  70.29589474],\n",
       "        [ 11.        ,  96.67894737,   1.8663    , ...,   6.14726316,\n",
       "          28.21215789,  38.90118421],\n",
       "        [ 12.        , 105.42368421,   1.8663    , ...,  10.02486842,\n",
       "          49.40223684,  24.68736842]],\n",
       "\n",
       "       [[  1.        ,  88.13157895,   1.8046    , ...,   1.97913158,\n",
       "          46.91510526,  24.22110526],\n",
       "        [  2.        ,  74.04210526,   1.8046    , ...,   1.68839474,\n",
       "          51.78689474,  33.19392105],\n",
       "        [  3.        , 110.43947368,   1.8046    , ...,   2.69731579,\n",
       "          59.28542105,  63.05660526],\n",
       "        ...,\n",
       "        [ 10.        , 116.13421053,   1.8046    , ...,   0.85268421,\n",
       "          27.65989474,  70.29589474],\n",
       "        [ 11.        ,  96.67894737,   1.8046    , ...,   1.19176316,\n",
       "          24.77023684,  38.90118421],\n",
       "        [ 12.        , 105.42368421,   1.8046    , ...,   2.23739474,\n",
       "          38.02831579,  24.68736842]],\n",
       "\n",
       "       ...,\n",
       "\n",
       "       [[  1.        ,  80.75      ,   0.83479   , ...,   1.61797368,\n",
       "          53.41039474,  29.84465789],\n",
       "        [  2.        ,  69.23421053,   0.83479   , ...,   1.33565789,\n",
       "          49.92610526,  39.93221053],\n",
       "        [  3.        ,  98.55789474,   0.83479   , ...,   1.55965789,\n",
       "          56.48978947,  71.05968421],\n",
       "        ...,\n",
       "        [ 10.        ,  99.90263158,   0.83479   , ...,   1.32552632,\n",
       "          46.52831579,  76.78707895],\n",
       "        [ 11.        ,  85.06315789,   0.83479   , ...,   1.46981579,\n",
       "          44.48728947,  44.45692105],\n",
       "        [ 12.        ,  86.19210526,   0.83479   , ...,   1.84665789,\n",
       "          50.38334211,  30.35376316]],\n",
       "\n",
       "       [[  1.        ,  80.75      ,   0.76955   , ...,   1.54415789,\n",
       "          51.39939474,  29.84465789],\n",
       "        [  2.        ,  69.23421053,   0.76955   , ...,   1.29073684,\n",
       "          49.84931579,  39.93221053],\n",
       "        [  3.        ,  98.55789474,   0.76955   , ...,   1.42836842,\n",
       "          59.27831579,  71.05968421],\n",
       "        ...,\n",
       "        [ 10.        ,  99.90263158,   0.76955   , ...,   1.07697368,\n",
       "          39.26421053,  76.78707895],\n",
       "        [ 11.        ,  85.06315789,   0.76955   , ...,   1.30744737,\n",
       "          38.71502632,  44.45692105],\n",
       "        [ 12.        ,  86.19210526,   0.76955   , ...,   1.70607895,\n",
       "          46.21873684,  30.35376316]],\n",
       "\n",
       "       [[  1.        ,  80.75      ,   0.80684   , ...,   0.30757895,\n",
       "          51.53881579,  29.84465789],\n",
       "        [  2.        ,  69.23421053,   0.80684   , ...,   0.25652632,\n",
       "          50.2255    ,  39.93221053],\n",
       "        [  3.        ,  98.55789474,   0.80684   , ...,   0.28076316,\n",
       "          58.88331579,  71.05968421],\n",
       "        ...,\n",
       "        [ 10.        ,  99.90263158,   0.80684   , ...,   0.21297368,\n",
       "          39.26189474,  76.78707895],\n",
       "        [ 11.        ,  85.06315789,   0.80684   , ...,   0.25997368,\n",
       "          38.69055263,  44.45692105],\n",
       "        [ 12.        ,  86.19210526,   0.80684   , ...,   0.33686842,\n",
       "          46.19505263,  30.35376316]]])"
      ]
     },
     "execution_count": 2,
     "metadata": {},
     "output_type": "execute_result"
    }
   ],
   "source": [
    "# ---------------------------------------------\n",
    "# LOAD DATA\n",
    "# load all hrus from across different subbasins\n",
    "# to the same array 'all_data'\n",
    "# ---------------------------------------------\n",
    "st = 0\n",
    "en = 0\n",
    "for i, name in enumerate(names_list):\n",
    "    en += n_hrus[i]\n",
    "    all_data[:,st:en,:] = np.load(data_path+'/'+name)\n",
    "    st = en\n",
    "    \n",
    "# reshape data to (months, n_hrus, features)\n",
    "all_data.transpose(1,0,2)\n",
    "mean_t = np.mean(all_data,1)\n",
    "var_t = np.var(all_data,1)"
   ]
  },
  {
   "cell_type": "code",
   "execution_count": 117,
   "metadata": {},
   "outputs": [
    {
     "name": "stdout",
     "output_type": "stream",
     "text": [
      "percent relative err mean:  0.29461279170474225\n",
      "percent relative err var  3.4662860705398404\n"
     ]
    }
   ],
   "source": [
    "# ---------------------------------------------\n",
    "# SUBSET SAMPLING\n",
    "# Sample a subset of data that is 'close enough' \n",
    "# in mean and varaince sense to original data. \n",
    "# total hrus = 99047\n",
    "# sampled hrus = 1000\n",
    "# ---------------------------------------------\n",
    "min_var_diff = 100000\n",
    "min_mean_diff = 100000\n",
    "iterations = 100\n",
    "for iter in range(iterations):\n",
    "    sample_ids = np.random.uniform(0,99047,1000).astype(int)\n",
    "    sample_data = all_data[:,sample_ids,:]\n",
    "    sample_mean_t = np.mean(sample_data,1)\n",
    "    sample_var_t = np.var(sample_data,1)\n",
    "    mean_diff = np.linalg.norm(mean_t - sample_mean_t)/np.linalg.norm(mean_t)\n",
    "    var_diff = np.linalg.norm(var_t - sample_var_t)/np.linalg.norm(var_t)\n",
    "    if (var_diff < min_var_diff) and (mean_diff < min_mean_diff):\n",
    "        min_var_diff = var_diff\n",
    "        min_mean_diff = mean_diff\n",
    "        min_sample_ids = sample_ids\n",
    "        min_sample_data = all_data[:,min_sample_ids,:]\n",
    "\n",
    "print('percent relative err mean: ', mean_diff*100)\n",
    "print('percent relative err var ' ,  var_diff*100)"
   ]
  },
  {
   "cell_type": "code",
   "execution_count": 119,
   "metadata": {},
   "outputs": [],
   "source": [
    "# ---------------------------------------------\n",
    "# DEFINE NORMALIZATION AND CLUSTERING FUNCTIONS\n",
    "# ---------------------------------------------\n",
    "def normalization(type, X_train):\n",
    "    if type =='custom':\n",
    "        max_arr = np.zeros(9)\n",
    "        min_arr = np.zeros(9)\n",
    "        X_train_norm = np.zeros(X_train.shape)\n",
    "        for i in range(9):\n",
    "            max_arr[i] = np.max(X_train[:,:,i])\n",
    "            min_arr[i] = np.min(X_train[:,:,i])\n",
    "            X_train_norm[:,:,i] = (X_train[:,:,i] -  min_arr[i])/( max_arr[i]- min_arr[i])\n",
    "    elif type == 'minmax':\n",
    "        X_train_norm = TimeSeriesScalerMinMax(value_range=(0,1)).fit_transform(X_train)\n",
    "    elif type == 'std':\n",
    "        X_train_norm = TimeSeriesScalerMeanVariance(0,1).fit_transform(X_train)\n",
    "    else: \n",
    "        X_train_norm = X_train\n",
    "    return(X_train_norm)\n",
    "\n",
    "def elbow_iter (k,X_train_norm, n_sample):\n",
    "    model = TimeSeriesKMeans(n_clusters=k, metric=\"dtw\", max_iter=10)\n",
    "    model.fit(X_train_norm)\n",
    "    labels = model.labels_\n",
    "    dist = model.transform(X_train_norm)\n",
    "    dist_clust = np.zeros(n_sample)\n",
    "    for i in range (n_sample):\n",
    "        dist_clust[i] = dist[i,labels[i]]\n",
    "    distortion = np.average(dist_clust**2)\n",
    "    return(distortion)\n"
   ]
  },
  {
   "cell_type": "code",
   "execution_count": 185,
   "metadata": {},
   "outputs": [],
   "source": [
    "# ---------------------------------------------\n",
    "# PERFORM ELBOW TEST\n",
    "# --------------------------------------------- \n",
    "# Normalize Data (CUSTOM)\n",
    "X_train_norm = normalization('custom', min_sample_data)\n",
    "\n",
    "# reshape data to (n_hrus, n_time samples, n_features) \n",
    "# for use with tslearn functions\n",
    "X_train_norm = X_train_norm.reshape(1000,12,10) \n",
    "\n",
    "# List of cluster numbers for elbow test\n",
    "k_list = [2,5,10,15,20,25,30, 40,50,80]\n",
    "distor = np.zeros(len(k_list))\n",
    "for i,k in enumerate(k_list):\n",
    "    distor[i] = elbow_iter(k,X_train_norm,1000)"
   ]
  },
  {
   "cell_type": "code",
   "execution_count": 209,
   "metadata": {},
   "outputs": [
    {
     "data": {
      "text/plain": [
       "Text(0.5, 1.0, 'Elbow Test for Selecting Number of Clusters (K)')"
      ]
     },
     "execution_count": 209,
     "metadata": {},
     "output_type": "execute_result"
    },
    {
     "data": {
      "image/png": "[encoded data removed]",
      "text/plain": [
       "<Figure size 432x288 with 1 Axes>"
      ]
     },
     "metadata": {
      "needs_background": "light"
     },
     "output_type": "display_data"
    }
   ],
   "source": [
    "# ---------------------------------------------\n",
    "# VISUALIZE RESULTS \n",
    "# --------------------------------------------- \n",
    "fs = 14\n",
    "plt.plot(np.array(k_list), distor)\n",
    "plt.xlabel('Number of Clusters (K)',fontsize=fs)\n",
    "plt.ylabel('Distortion', fontsize=fs)\n",
    "plt.title('Elbow Test for Selecting Number of Clusters (K)', fontsize=fs)\n",
    "plt.grid()"
   ]
  }
 ],
 "metadata": {
  "kernelspec": {
   "display_name": "Python 3.9.12 ('NewPyFIR': conda)",
   "language": "python",
   "name": "python3"
  },
  "language_info": {
   "codemirror_mode": {
    "name": "ipython",
    "version": 3
   },
   "file_extension": ".py",
   "mimetype": "text/x-python",
   "name": "python",
   "nbconvert_exporter": "python",
   "pygments_lexer": "ipython3",
   "version": "3.9.12"
  },
  "orig_nbformat": 4,
  "vscode": {
   "interpreter": {
    "hash": "2f5b3ae0745328dcc61aefa536325bd90100aa39ad9e0c20a14dd1c1a401e940"
   }
  }
 },
 "nbformat": 4,
 "nbformat_minor": 2
}
