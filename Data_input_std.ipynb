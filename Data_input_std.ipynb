{
 "cells": [
  {
   "cell_type": "code",
   "execution_count": 1,
   "metadata": {},
   "outputs": [],
   "source": [
    "# Import dependancies\n",
    "import numpy as np\n",
    "import pandas as pd\n",
    "import os\n",
    "import pickle\n",
    "\n",
    "# Load feature definitions\n",
    "with open('SWAT_feat_description.pkl', 'rb') as f:\n",
    "    feat_descript = pickle.load(f)"
   ]
  },
  {
   "cell_type": "code",
   "execution_count": 22,
   "metadata": {},
   "outputs": [],
   "source": [
    "# Get a list of all output filenames \n",
    "path = '/Users/muneeza/Documents/GitHub/GNNs_PrecisionAgriculture'\n",
    "names_list = os.listdir(path+'/region02_ML/ML_R02_std/')"
   ]
  },
  {
   "cell_type": "code",
   "execution_count": 5,
   "metadata": {},
   "outputs": [],
   "source": [
    "# Function: Data Pre-processing .SUB file\n",
    "#       input : (path , filename , preprocessing , save_dir , Data_required)\n",
    "#       returns : saves a numpy array of the hru data in 'save_dir' with 'filename'\n",
    "# \n",
    "# Splits month and area values (month and area values are returned jointly without any spacing by swat)\n",
    "# Look for missing values and fill them\n",
    "# One-hot-encode categorical data\n",
    "# Preprocess data according to choice (normalize v.s. standardscaler)\n",
    "\n",
    "# Read SWAT output data\n",
    "\n",
    "for name in names_list:\n",
    "    with open(path+'/region02_ML/ML_R02_std/'+name) as f:\n",
    "        lines = f.readlines()\n",
    "\n",
    "    lines = [x.strip() for x in lines]\n",
    "    id_start = lines.index('AVE MONTHLY BASIN VALUES')\n",
    "    id_end = lines.index('AVE ANNUAL BASIN STRESS DAYS')\n",
    "    mo_avg_basin = lines[id_start+1:id_end]\n",
    "    feat = np.array([x.split() for x in mo_avg_basin[3:len(mo_avg_basin)]]).astype(float)\n",
    "    np.save(path+'/preproc_region02_ML/'+name, feat)"
   ]
  },
  {
   "cell_type": "markdown",
   "metadata": {},
   "source": []
  }
 ],
 "metadata": {
  "kernelspec": {
   "display_name": "Python 3.10.4 64-bit",
   "language": "python",
   "name": "python3"
  },
  "language_info": {
   "codemirror_mode": {
    "name": "ipython",
    "version": 3
   },
   "file_extension": ".py",
   "mimetype": "text/x-python",
   "name": "python",
   "nbconvert_exporter": "python",
   "pygments_lexer": "ipython3",
   "version": "3.10.4"
  },
  "orig_nbformat": 4,
  "vscode": {
   "interpreter": {
    "hash": "aee8b7b246df8f9039afb4144a1f6fd8d2ca17a180786b69acc140d282b71a49"
   }
  }
 },
 "nbformat": 4,
 "nbformat_minor": 2
}
