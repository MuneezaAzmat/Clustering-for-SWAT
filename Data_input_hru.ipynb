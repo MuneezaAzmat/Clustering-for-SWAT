{
 "cells": [
  {
   "cell_type": "code",
   "execution_count": 2,
   "metadata": {},
   "outputs": [],
   "source": [
    "# Import dependancies\n",
    "import numpy as np\n",
    "import pandas as pd\n",
    "import os\n",
    "import pickle\n",
    "\n",
    "# Load feature definitions\n",
    "with open('SWAT_feat_description.pkl', 'rb') as f:\n",
    "    feat_descript = pickle.load(f)\n",
    "\n",
    "with open('SWAT_feat_names.pkl', 'rb') as f:\n",
    "    feat_names = pickle.load(f)\n"
   ]
  },
  {
   "cell_type": "code",
   "execution_count": 23,
   "metadata": {},
   "outputs": [
    {
     "name": "stdout",
     "output_type": "stream",
     "text": [
      "Water yield (mm H2O). Total amount of water leaving the HRU and entering main channel during the time step. (WYLD = SURQ + LATQ + GWQ - TLOSS - pond abstractions)\n"
     ]
    }
   ],
   "source": [
    "print(feat_descript['WYLD'])"
   ]
  },
  {
   "cell_type": "code",
   "execution_count": 2,
   "metadata": {},
   "outputs": [],
   "source": [
    "# Get a list of all output filenames \n",
    "# This is for hru files \n",
    "path = '/Users/muneeza/Documents/GitHub/GNNs_PrecisionAgriculture/SWAT Data Reader/'\n",
    "names_list = os.listdir(path+'region02_ML/ML_R02_hru/')\n",
    "\n"
   ]
  },
  {
   "cell_type": "code",
   "execution_count": 3,
   "metadata": {},
   "outputs": [],
   "source": [
    "def feature_locations(type, n_feat):\n",
    "\n",
    "    # Grab all features in output file, if using this setting must add code for \n",
    "    # encoding land use/cover\n",
    "    if type == 'all':       \n",
    "        feat_spaces = np.zeros((n_feat,2)).astype(int)\n",
    "        feat_spaces[0,:] = 0, 4     # LULC\n",
    "        feat_spaces[1,:] = 5, 9     # HRU\n",
    "        feat_spaces[2,:] = 10, 19   # GIS\n",
    "        feat_spaces[3,:] = 20, 24   # SUB\n",
    "        feat_spaces[4,:] = 25, 29   # MGT\n",
    "        feat_spaces[5,:] = 30, 34   # MON\n",
    "        feat_spaces[6,:] = 34, 44   # AREA\n",
    "        st = 7\n",
    "        \n",
    "    # Grab numeric features only \n",
    "    elif type == 'numeric':     \n",
    "        feat_spaces = np.zeros((n_feat, 2)).astype(int)\n",
    "        feat_spaces[0,:] = 30, 34       # MON\n",
    "        feat_spaces[1,:] = 34, 44       # AREA\n",
    "        st = 2\n",
    "\n",
    "    for i in range(st,n_feat):\n",
    "        tmp = feat_spaces[i-1,1]\n",
    "        if (i == st+66 or i ==st+67):\n",
    "            feat_spaces[i,:] = tmp+1 , tmp+11\n",
    "        else: \n",
    "            feat_spaces[i,:] = tmp, tmp+10 \n",
    "    \n",
    "    return(feat_spaces)"
   ]
  },
  {
   "cell_type": "code",
   "execution_count": 11,
   "metadata": {},
   "outputs": [],
   "source": [
    "#   in  : (path , filename , save_dir)\n",
    "#   out : saves a numpy array of the hru data in 'save_dir' with 'filename'\n",
    "\n",
    "for i, name in enumerate(names_list):\n",
    "    if name == '020200070203_hru.hru':       # has a corrupted variable with **** values\n",
    "        continue\n",
    "    else: \n",
    "        with open(path+'region02_ML/ML_R02_hru/'+name) as f:\n",
    "            lines = f.readlines()\n",
    "        f.close\n",
    "\n",
    "        n_feat = 81\n",
    "        n_smpl = len(lines[6:])\n",
    "\n",
    "        # Generate spacing array to read the varaiables in .hru file\n",
    "        feat_spaces = feature_locations('numeric',n_feat)\n",
    "\n",
    "        # Select feature values from hru file based on character space outlined in \n",
    "        feature_vals = np.zeros((n_smpl, n_feat))\n",
    "        for i , row in enumerate(lines[6:]):\n",
    "            for j in range(n_feat):\n",
    "                feature_vals[i,j] = float(row[feat_spaces[j,0]:feat_spaces[j,1]])\n",
    "                \n",
    "        # Uncomment to save the as numpy array\n",
    "        np.save(path+'/hru_region02_pyinp/'+name, feature_vals)\n",
    "\n"
   ]
  }
 ],
 "metadata": {
  "kernelspec": {
   "display_name": "Python 3.9.12 ('NewPyFIR': conda)",
   "language": "python",
   "name": "python3"
  },
  "language_info": {
   "codemirror_mode": {
    "name": "ipython",
    "version": 3
   },
   "file_extension": ".py",
   "mimetype": "text/x-python",
   "name": "python",
   "nbconvert_exporter": "python",
   "pygments_lexer": "ipython3",
   "version": "3.9.12"
  },
  "orig_nbformat": 4,
  "vscode": {
   "interpreter": {
    "hash": "2f5b3ae0745328dcc61aefa536325bd90100aa39ad9e0c20a14dd1c1a401e940"
   }
  }
 },
 "nbformat": 4,
 "nbformat_minor": 2
}
